{
 "cells": [
  {
   "cell_type": "code",
   "execution_count": 1,
   "id": "0f373213",
   "metadata": {},
   "outputs": [
    {
     "ename": "KeyboardInterrupt",
     "evalue": "Interrupted by user",
     "output_type": "error",
     "traceback": [
      "\u001b[1;31m---------------------------------------------------------------------------\u001b[0m",
      "\u001b[1;31mKeyboardInterrupt\u001b[0m                         Traceback (most recent call last)",
      "\u001b[1;32m~\\AppData\\Local\\Temp/ipykernel_2436/567012727.py\u001b[0m in \u001b[0;36m<module>\u001b[1;34m\u001b[0m\n\u001b[0;32m     41\u001b[0m     \u001b[0mprint\u001b[0m\u001b[1;33m(\u001b[0m\u001b[0mexplored\u001b[0m\u001b[1;33m)\u001b[0m\u001b[1;33m\u001b[0m\u001b[1;33m\u001b[0m\u001b[0m\n\u001b[0;32m     42\u001b[0m \u001b[1;33m\u001b[0m\u001b[0m\n\u001b[1;32m---> 43\u001b[1;33m \u001b[0mStart\u001b[0m \u001b[1;33m=\u001b[0m \u001b[0minput\u001b[0m\u001b[1;33m(\u001b[0m\u001b[1;34m'Enter Starting node  : '\u001b[0m\u001b[1;33m)\u001b[0m\u001b[1;33m\u001b[0m\u001b[1;33m\u001b[0m\u001b[0m\n\u001b[0m\u001b[0;32m     44\u001b[0m \u001b[0mEnd\u001b[0m \u001b[1;33m=\u001b[0m \u001b[0minput\u001b[0m\u001b[1;33m(\u001b[0m\u001b[1;34m'Enter Ending node  : '\u001b[0m\u001b[1;33m)\u001b[0m\u001b[1;33m\u001b[0m\u001b[1;33m\u001b[0m\u001b[0m\n\u001b[0;32m     45\u001b[0m \u001b[0mprint\u001b[0m\u001b[1;33m(\u001b[0m\u001b[1;33m)\u001b[0m\u001b[1;33m\u001b[0m\u001b[1;33m\u001b[0m\u001b[0m\n",
      "\u001b[1;32m~\\anaconda3\\lib\\site-packages\\ipykernel\\kernelbase.py\u001b[0m in \u001b[0;36mraw_input\u001b[1;34m(self, prompt)\u001b[0m\n\u001b[0;32m   1004\u001b[0m                 \u001b[1;34m\"raw_input was called, but this frontend does not support input requests.\"\u001b[0m\u001b[1;33m\u001b[0m\u001b[1;33m\u001b[0m\u001b[0m\n\u001b[0;32m   1005\u001b[0m             )\n\u001b[1;32m-> 1006\u001b[1;33m         return self._input_request(\n\u001b[0m\u001b[0;32m   1007\u001b[0m             \u001b[0mstr\u001b[0m\u001b[1;33m(\u001b[0m\u001b[0mprompt\u001b[0m\u001b[1;33m)\u001b[0m\u001b[1;33m,\u001b[0m\u001b[1;33m\u001b[0m\u001b[1;33m\u001b[0m\u001b[0m\n\u001b[0;32m   1008\u001b[0m             \u001b[0mself\u001b[0m\u001b[1;33m.\u001b[0m\u001b[0m_parent_ident\u001b[0m\u001b[1;33m[\u001b[0m\u001b[1;34m\"shell\"\u001b[0m\u001b[1;33m]\u001b[0m\u001b[1;33m,\u001b[0m\u001b[1;33m\u001b[0m\u001b[1;33m\u001b[0m\u001b[0m\n",
      "\u001b[1;32m~\\anaconda3\\lib\\site-packages\\ipykernel\\kernelbase.py\u001b[0m in \u001b[0;36m_input_request\u001b[1;34m(self, prompt, ident, parent, password)\u001b[0m\n\u001b[0;32m   1049\u001b[0m             \u001b[1;32mexcept\u001b[0m \u001b[0mKeyboardInterrupt\u001b[0m\u001b[1;33m:\u001b[0m\u001b[1;33m\u001b[0m\u001b[1;33m\u001b[0m\u001b[0m\n\u001b[0;32m   1050\u001b[0m                 \u001b[1;31m# re-raise KeyboardInterrupt, to truncate traceback\u001b[0m\u001b[1;33m\u001b[0m\u001b[1;33m\u001b[0m\u001b[0m\n\u001b[1;32m-> 1051\u001b[1;33m                 \u001b[1;32mraise\u001b[0m \u001b[0mKeyboardInterrupt\u001b[0m\u001b[1;33m(\u001b[0m\u001b[1;34m\"Interrupted by user\"\u001b[0m\u001b[1;33m)\u001b[0m \u001b[1;32mfrom\u001b[0m \u001b[1;32mNone\u001b[0m\u001b[1;33m\u001b[0m\u001b[1;33m\u001b[0m\u001b[0m\n\u001b[0m\u001b[0;32m   1052\u001b[0m             \u001b[1;32mexcept\u001b[0m \u001b[0mException\u001b[0m\u001b[1;33m:\u001b[0m\u001b[1;33m\u001b[0m\u001b[1;33m\u001b[0m\u001b[0m\n\u001b[0;32m   1053\u001b[0m                 \u001b[0mself\u001b[0m\u001b[1;33m.\u001b[0m\u001b[0mlog\u001b[0m\u001b[1;33m.\u001b[0m\u001b[0mwarning\u001b[0m\u001b[1;33m(\u001b[0m\u001b[1;34m\"Invalid Message:\"\u001b[0m\u001b[1;33m,\u001b[0m \u001b[0mexc_info\u001b[0m\u001b[1;33m=\u001b[0m\u001b[1;32mTrue\u001b[0m\u001b[1;33m)\u001b[0m\u001b[1;33m\u001b[0m\u001b[1;33m\u001b[0m\u001b[0m\n",
      "\u001b[1;31mKeyboardInterrupt\u001b[0m: Interrupted by user"
     ]
    }
   ],
   "source": [
    "# Write Python program to implement Greedy Best First Search Algorithms for following rout\n",
    "# finding problem from Arad to Bucharest.\n",
    "\n",
    "mapPoints = { 'Arad' :[['Zerind',374],['Timisoara',329],['Sibiu',253]],\n",
    "         'Zerind':[['Oradea',380],['Arad',366]],\n",
    "         'Oradea':[['Sibiu',253]],\n",
    "         'Sibiu':[['Rimniciu Vilcea',193],['Fagaras',178],['Arad',366]],\n",
    "         'Fagaras':[['Sibiu',253],['Bucharest',0]],\n",
    "         'Rimniciu Vilcea':[['Pitesti',98],['Craiova',160],['Sibiu',253]],\n",
    "         'Timisoara':[['Lugoj',244],['Arad',366]],\n",
    "         'Lugoj':[['Mehadia',241]],\n",
    "         'Mehadia':[['Lugoj',244],['Dorbeta',242]],\n",
    "         'Dobreta':[['Mehadia',241],['Craiova',160]],\n",
    "         'Pitesti':[['Craiova',160],['Bucharest',0]],\n",
    "         'Craiova':[['Pitesti',98],['Dobreta',242],['Rimniciu Vilcea',193]],\n",
    "         'Bucharest':[['Giurgiu',77],['Urziceni',80],['Fagaras',178],['Pitesti',98]],\n",
    "         'Giurgiu': [['Bucharest',0]],\n",
    "         'Urziceni':[['Vaslui',199],['Hirsova',151],['Bucharest',0]],\n",
    "         'Vaslui':[['Lasi',226],['Urziceni',80]],\n",
    "         'Lasi':[['Neamt',234],['Vaslui',199]],\n",
    "         'Neamt':[['Lasi',226]],\n",
    "         'Hirsova':[['Eforie',161],['Urziceni',80]],\n",
    "         'Eforie':[['Hirsova',151]]\n",
    "}\n",
    "\n",
    "def greedyBestFirstSearch(mapPoints, start, end):\n",
    "    explored = [] # Path store karta hai\n",
    "    queue = [start]\n",
    "    while queue:\n",
    "        print (queue)\n",
    "        node = queue.pop(0) \n",
    "        if node not in explored:\n",
    "            explored.append(node)\n",
    "            if node == end:\n",
    "                break\n",
    "            neighbors = mapPoints[node]\n",
    "            neighbors.sort(key=lambda a: a[1])\n",
    "            print (neighbors)\n",
    "            queue=neighbors.pop(0)\n",
    "\n",
    "    print(explored)\n",
    "\n",
    "Start = input('Enter Starting node  : ')\n",
    "End = input('Enter Ending node  : ')\n",
    "print()\n",
    "print('Greedy Best First Search from staring node to goal node')\n",
    "greedyBestFirstSearch(mapPoints, Start, End)"
   ]
  },
  {
   "cell_type": "code",
   "execution_count": null,
   "id": "5ed21841",
   "metadata": {},
   "outputs": [],
   "source": []
  }
 ],
 "metadata": {
  "kernelspec": {
   "display_name": "Python 3 (ipykernel)",
   "language": "python",
   "name": "python3"
  },
  "language_info": {
   "codemirror_mode": {
    "name": "ipython",
    "version": 3
   },
   "file_extension": ".py",
   "mimetype": "text/x-python",
   "name": "python",
   "nbconvert_exporter": "python",
   "pygments_lexer": "ipython3",
   "version": "3.9.7"
  }
 },
 "nbformat": 4,
 "nbformat_minor": 5
}
