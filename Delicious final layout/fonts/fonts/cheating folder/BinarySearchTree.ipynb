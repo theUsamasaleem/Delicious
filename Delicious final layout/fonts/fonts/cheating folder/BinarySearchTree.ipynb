{
  "nbformat": 4,
  "nbformat_minor": 0,
  "metadata": {
    "colab": {
      "name": "BinarySearchTree.ipynb",
      "provenance": []
    },
    "kernelspec": {
      "name": "python3",
      "display_name": "Python 3"
    },
    "language_info": {
      "name": "python"
    }
  },
  "cells": [
    {
      "cell_type": "code",
      "metadata": {
        "colab": {
          "base_uri": "https://localhost:8080/"
        },
        "id": "f8imw2wiw3TX",
        "outputId": "1a548716-1a92-477a-af5a-a2297ebe0255"
      },
      "source": [
        "class Node:\n",
        "    def __init__(self, data):\n",
        "      self.data = data\n",
        "      self.left = None\n",
        "      self.right = None\n",
        "\n",
        "    def add_child(self, data):\n",
        "      if data == self.data:\n",
        "          return # node already exist\n",
        "\n",
        "      if data < self.data:\n",
        "          if self.left:\n",
        "              self.left.add_child(data)\n",
        "          else:\n",
        "              self.left = Node(data)\n",
        "      else:\n",
        "          if self.right:\n",
        "              self.right.add_child(data)\n",
        "          else:\n",
        "              self.right = Node(data)\n",
        "\n",
        "    def search(self, val):\n",
        "      if self.data == val:\n",
        "          return True\n",
        "\n",
        "      if val < self.data:\n",
        "          if self.left:\n",
        "              return self.left.search(val)\n",
        "          else:\n",
        "              return False\n",
        "\n",
        "      if val > self.data:\n",
        "        if self.right:\n",
        "            return self.right.search(val)\n",
        "        else:\n",
        "            return False\n",
        "\n",
        "    def in_order_traversal(self):\n",
        "      elements = []\n",
        "      if self.left:\n",
        "          elements += self.left.in_order_traversal()\n",
        "\n",
        "      elements.append(self.data)\n",
        "\n",
        "      if self.right:\n",
        "          elements += self.right.in_order_traversal()\n",
        "\n",
        "      return elements\n",
        "\n",
        "    def build_tree(elements):\n",
        "        print(\"Elements use to build tree are: \", elements)\n",
        "        root = Node(elements[0])\n",
        "\n",
        "        for i in range(1, len(elements)):\n",
        "            root.add_child(elements[i])\n",
        "\n",
        "        return root\n",
        "\n",
        "    if __name__ == '__main__':\n",
        "        countries  = [\"India\", \"Pakistan\", \"Afganistan\", \"USA\", \"UK\", \"Germany\", \"China\", \"Spain\"]\n",
        "        country_tree = build_tree(countries)\n",
        "\n",
        "        print(\"USA is in the list? \", country_tree.search(\"USA\"))\n",
        "        print(\"Poland is in the list? \", country_tree.search(\"Poland\"))\n",
        "\n",
        "        numbers_tree = build_tree([17, 25, 1, 4, 67, 18, 44, 55, 21, 53, 76, 8])\n",
        "        print(\"In order Traversal of gives this sorted list: \", numbers_tree.in_order_traversal())"
      ],
      "execution_count": null,
      "outputs": [
        {
          "output_type": "stream",
          "name": "stdout",
          "text": [
            "Elements use to build tree are:  ['India', 'Pakistan', 'Afganistan', 'USA', 'UK', 'Germany', 'China', 'Spain']\n",
            "USA is in the list?  True\n",
            "Poland is in the list?  False\n",
            "Elements use to build tree are:  [17, 25, 1, 4, 67, 18, 44, 55, 21, 53, 76, 8]\n",
            "In order Traversal of gives this sorted list:  [1, 4, 8, 17, 18, 21, 25, 44, 53, 55, 67, 76]\n"
          ]
        }
      ]
    }
  ]
}