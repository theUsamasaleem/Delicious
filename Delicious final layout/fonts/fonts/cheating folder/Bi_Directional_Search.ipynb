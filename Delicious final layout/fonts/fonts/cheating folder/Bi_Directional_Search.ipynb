{
  "nbformat": 4,
  "nbformat_minor": 0,
  "metadata": {
    "colab": {
      "name": "Bi-Directional Search.ipynb",
      "provenance": []
    },
    "kernelspec": {
      "name": "python3",
      "display_name": "Python 3"
    },
    "language_info": {
      "name": "python"
    }
  },
  "cells": [
    {
      "cell_type": "code",
      "metadata": {
        "colab": {
          "base_uri": "https://localhost:8080/"
        },
        "id": "j1fcRgqeFb-n",
        "outputId": "26bcf9d9-4124-4e8d-ae51-103f6600c2bf"
      },
      "source": [
        "from collections import deque\n",
        "\n",
        "class Graph:\n",
        "    def __init__(self, directed=True):\n",
        "        self.edges = {}\n",
        "        self.directed = directed\n",
        "\n",
        "    def add_edge(self, node1, node2, __reversed=False):\n",
        "        try: neighbors = self.edges[node1]\n",
        "        except KeyError: neighbors = set()\n",
        "        neighbors.add(node2)\n",
        "        self.edges[node1] = neighbors\n",
        "        if not self.directed and not __reversed: self.add_edge(node2, node1, True)\n",
        "\n",
        "    def neighbors(self, node):\n",
        "        try: return self.edges[node]\n",
        "        except KeyError: return []\n",
        "\n",
        "    def bi_directional_search(self, start, goal):\n",
        "        found, fringe1, visited1, came_from1 = False, deque([start]), set([start]), {start: None}\n",
        "        meet, fringe2, visited2, came_from2 = None, deque([goal]), set([goal]), {goal: None}\n",
        "        while not found and (len(fringe1) or len(fringe2)):\n",
        "            print('FringeStart: {:20s} | FringeGoal: {}'.format(str(fringe1), str(fringe2)))\n",
        "            if len(fringe1):\n",
        "                current1 = fringe1.pop()\n",
        "                if current1 in visited2: meet = current1; found = True; break\n",
        "                for node in self.neighbors(current1):\n",
        "                    if node not in visited1: visited1.add(node); fringe1.appendleft(node); came_from1[node] = current1\n",
        "            if len(fringe2):\n",
        "                current2 = fringe2.pop()\n",
        "                if current2 in visited1: meet = current2; found = True; break\n",
        "                for node in self.neighbors(current2):\n",
        "                    if node not in visited2: visited2.add(node); fringe2.appendleft(node); came_from2[node] = current2\n",
        "        if found: print(); return came_from1, came_from2, meet\n",
        "        else: print('No path between {} and {}'.format(start, goal)); return None, None, None\n",
        "\n",
        "    @staticmethod\n",
        "    def print_path(came_from, goal):\n",
        "        parent = came_from[goal]\n",
        "        if parent:\n",
        "            Graph.print_path(came_from, parent)\n",
        "        else: print(goal, end='');return\n",
        "        print(' =>', goal, end='')\n",
        "\n",
        "    def __str__(self):\n",
        "        return str(self.edges)\n",
        "\n",
        "print(\"Bi-Directional Search\\n\")\n",
        "graph = Graph(directed=False)\n",
        "graph.add_edge('A', 'B'); graph.add_edge('A', 'S'); graph.add_edge('S', 'G')\n",
        "graph.add_edge('S', 'C'); graph.add_edge('C', 'F'); graph.add_edge('G', 'F')\n",
        "graph.add_edge('C', 'D'); graph.add_edge('C', 'E'); graph.add_edge('E', 'H')\n",
        "graph.add_edge('G', 'H')\n",
        "start, goal = 'A', 'H'\n",
        "traced_path1, traced_path2, meet = graph.bi_directional_search(start, goal)\n",
        "if meet:\n",
        "    print('Meeting Node:', meet)\n",
        "    print('Path From Start:', end=' '); Graph.print_path(traced_path1, meet); print()\n",
        "    print('Path From Goal:', end=' '); Graph.print_path(traced_path2, meet); print()"
      ],
      "execution_count": 2,
      "outputs": [
        {
          "output_type": "stream",
          "name": "stdout",
          "text": [
            "Bi-Directional Search\n",
            "\n",
            "FringeStart: deque(['A'])         | FringeGoal: deque(['H'])\n",
            "FringeStart: deque(['S', 'B'])    | FringeGoal: deque(['G', 'E'])\n",
            "FringeStart: deque(['S'])         | FringeGoal: deque(['C', 'G'])\n",
            "\n",
            "Meeting Node: G\n",
            "Path From Start: A => S => G\n",
            "Path From Goal: H => G\n"
          ]
        }
      ]
    }
  ]
}