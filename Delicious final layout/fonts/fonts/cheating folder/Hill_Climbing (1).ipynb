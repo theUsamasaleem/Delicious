{
  "cells": [
    {
      "cell_type": "code",
      "execution_count": null,
      "id": "1ce95f5c",
      "metadata": {
        "id": "1ce95f5c",
        "outputId": "2e671fc6-a740-491b-ea6f-245c39ba9158"
      },
      "outputs": [
        {
          "name": "stdout",
          "output_type": "stream",
          "text": [
            "[3, 2, 0, 1]\n",
            "1800\n",
            "[[2, 3, 0, 1], [0, 2, 3, 1], [1, 2, 0, 3], [3, 0, 2, 1], [3, 1, 0, 2], [3, 2, 1, 0]]\n",
            "([2, 3, 0, 1], 1400)\n"
          ]
        }
      ],
      "source": [
        "import random\n",
        "\n",
        "def randomSolution(tsp):\n",
        "    cities = list(range(len(tsp)))\n",
        "    solution = []\n",
        "\n",
        "    for i in range(len(tsp)):\n",
        "        randomCity = cities[random.randint(0, len(cities) - 1)]\n",
        "        solution.append(randomCity)\n",
        "        cities.remove(randomCity)\n",
        "\n",
        "    return solution\n",
        "\n",
        "def routeLength(tsp, solution):\n",
        "    routeLength = 0\n",
        "    for i in range(len(solution)):\n",
        "        routeLength += tsp[solution[i - 1]][solution[i]]\n",
        "    return routeLength\n",
        "\n",
        "def getNeighbours(solution):\n",
        "    neighbours = []\n",
        "    for i in range(len(solution)):\n",
        "        for j in range(i + 1, len(solution)):\n",
        "            neighbour = solution.copy()\n",
        "            neighbour[i] = solution[j]\n",
        "            neighbour[j] = solution[i]\n",
        "            neighbours.append(neighbour)\n",
        "    return neighbours\n",
        "\n",
        "def getBestNeighbour(tsp, neighbours):\n",
        "    bestRouteLength = routeLength(tsp, neighbours[0])\n",
        "    bestNeighbour = neighbours[0]\n",
        "    for neighbour in neighbours:\n",
        "        currentRouteLength = routeLength(tsp, neighbour)\n",
        "        if currentRouteLength < bestRouteLength:\n",
        "            bestRouteLength = currentRouteLength\n",
        "            bestNeighbour = neighbour\n",
        "    return bestNeighbour, bestRouteLength\n",
        "\n",
        "def hillClimbing(tsp):\n",
        "    currentSolution = randomSolution(tsp)\n",
        "    #print(currentSolution)\n",
        "    currentRouteLength = routeLength(tsp, currentSolution)\n",
        "    #print(currentRouteLength)\n",
        "    neighbours = getNeighbours(currentSolution)\n",
        "    #print(neighbours)\n",
        "    bestNeighbour, bestNeighbourRouteLength = getBestNeighbour(tsp, neighbours)\n",
        "\n",
        "    while bestNeighbourRouteLength < currentRouteLength:\n",
        "        currentSolution = bestNeighbour\n",
        "        currentRouteLength = bestNeighbourRouteLength\n",
        "        neighbours = getNeighbours(currentSolution)\n",
        "        bestNeighbour, bestNeighbourRouteLength = getBestNeighbour(tsp, neighbours)\n",
        "\n",
        "    return currentSolution, currentRouteLength\n",
        "\n",
        "def main():\n",
        "    tsp = [\n",
        "        [0, 400, 500, 300],\n",
        "        [400, 0, 300, 500],\n",
        "        [500, 300, 0, 400],\n",
        "        [300, 500, 400, 0]\n",
        "    ]\n",
        "\n",
        "    print(hillClimbing(tsp))\n",
        "\n",
        "if __name__ == \"__main__\":\n",
        "    main()"
      ]
    },
    {
      "cell_type": "code",
      "execution_count": null,
      "id": "cd0f14a2",
      "metadata": {
        "id": "cd0f14a2"
      },
      "outputs": [],
      "source": [
        ""
      ]
    }
  ],
  "metadata": {
    "kernelspec": {
      "display_name": "Python 3",
      "language": "python",
      "name": "python3"
    },
    "language_info": {
      "codemirror_mode": {
        "name": "ipython",
        "version": 3
      },
      "file_extension": ".py",
      "mimetype": "text/x-python",
      "name": "python",
      "nbconvert_exporter": "python",
      "pygments_lexer": "ipython3",
      "version": "3.8.8"
    },
    "colab": {
      "name": "Hill Climbing.ipynb",
      "provenance": []
    }
  },
  "nbformat": 4,
  "nbformat_minor": 5
}