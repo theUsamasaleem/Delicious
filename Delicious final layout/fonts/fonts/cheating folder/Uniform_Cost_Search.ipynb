{
  "nbformat": 4,
  "nbformat_minor": 0,
  "metadata": {
    "colab": {
      "name": "Uniform Cost Search.ipynb",
      "provenance": []
    },
    "kernelspec": {
      "name": "python3",
      "display_name": "Python 3"
    },
    "language_info": {
      "name": "python"
    }
  },
  "cells": [
    {
      "cell_type": "code",
      "metadata": {
        "colab": {
          "base_uri": "https://localhost:8080/"
        },
        "id": "AjvOmwLj_-Ip",
        "outputId": "7877552a-b7cc-479b-8a26-5c32b2d0ef55"
      },
      "source": [
        "from queue import heappop, heappush\n",
        "from math import inf\n",
        "\n",
        "class Graph:\n",
        "    def __init__(self, directed=True):\n",
        "        self.edges = {}\n",
        "        self.directed = directed\n",
        "\n",
        "    def add_edge(self, node1, node2, cost = 1, __reversed=False):\n",
        "        try: neighbors = self.edges[node1]\n",
        "        except KeyError: neighbors = {}\n",
        "        neighbors[node2] = cost\n",
        "        self.edges[node1] = neighbors\n",
        "        if not self.directed and not __reversed: self.add_edge(node2, node1, cost, True)\n",
        "\n",
        "    def neighbors(self, node):\n",
        "        try: return self.edges[node]\n",
        "        except KeyError: return []\n",
        "\n",
        "    def cost(self, node1, node2):\n",
        "        try: return self.edges[node1][node2]\n",
        "        except: return inf\n",
        "\n",
        "\n",
        "    def uniform_cost_search(self, start, goal):\n",
        "        found, fringe, visited, came_from, cost_so_far = False, [(0, start)], set([start]), {start: None}, {start: 0}\n",
        "        print('{:11s} | {}'.format('Expand Node', 'Fringe'))\n",
        "        print('--------------------')\n",
        "        print('{:11s} | {}'.format('-', str((0, start))))\n",
        "        while not found and len(fringe):\n",
        "            _, current = heappop(fringe)\n",
        "            print('{:11s}'.format(current), end=' | ')\n",
        "            if current == goal: found = True; break\n",
        "            for node in self.neighbors(current):\n",
        "                new_cost = cost_so_far[current] + self.cost(current, node)\n",
        "                if node not in visited or cost_so_far[node] > new_cost:\n",
        "                    visited.add(node); came_from[node] = current; cost_so_far[node] = new_cost\n",
        "                    heappush(fringe, (new_cost, node))\n",
        "            print(', '.join([str(n) for n in fringe]))\n",
        "        if found: print(); return came_from, cost_so_far[goal]\n",
        "        else: print('No path from {} to {}'.format(start, goal)); return None, inf\n",
        "\n",
        "    @staticmethod\n",
        "    def print_path(came_from, goal):\n",
        "        parent = came_from[goal]\n",
        "        if parent:\n",
        "            Graph.print_path(came_from, parent)\n",
        "        else: print(goal, end='');return\n",
        "        print(' =>', goal, end='')\n",
        "\n",
        "\n",
        "    def __str__(self):\n",
        "        return str(self.edges)\n",
        "\n",
        "print(\"Uniform Cost Search\\n\")\n",
        "graph = Graph(directed=True)\n",
        "graph.add_edge('A', 'B', 4)\n",
        "graph.add_edge('A', 'C', 1)\n",
        "graph.add_edge('B', 'D', 3)\n",
        "graph.add_edge('B', 'E', 8)\n",
        "graph.add_edge('C', 'C', 0)\n",
        "graph.add_edge('C', 'D', 7)\n",
        "graph.add_edge('C', 'F', 6)\n",
        "graph.add_edge('D', 'C', 2)\n",
        "graph.add_edge('D', 'E', 4)\n",
        "graph.add_edge('E', 'G', 2)\n",
        "graph.add_edge('F', 'G', 8)\n",
        "\n",
        "start, goal = 'A', 'E'\n",
        "traced_path, cost = graph.uniform_cost_search(start, goal)\n",
        "if (traced_path): print('Path:', end=' '); Graph.print_path(traced_path, goal); print('\\nCost:', cost)"
      ],
      "execution_count": null,
      "outputs": [
        {
          "output_type": "stream",
          "name": "stdout",
          "text": [
            "Uniform Cost Search\n",
            "\n",
            "Expand Node | Fringe\n",
            "--------------------\n",
            "-           | (0, 'A')\n",
            "A           | (1, 'C'), (4, 'B')\n",
            "C           | (4, 'B'), (8, 'D'), (7, 'F')\n",
            "B           | (7, 'D'), (8, 'D'), (7, 'F'), (12, 'E')\n",
            "D           | (7, 'F'), (8, 'D'), (12, 'E'), (11, 'E')\n",
            "F           | (8, 'D'), (11, 'E'), (12, 'E'), (15, 'G')\n",
            "D           | (11, 'E'), (15, 'G'), (12, 'E')\n",
            "E           | \n",
            "Path: A => B => D => E\n",
            "Cost: 11\n"
          ]
        }
      ]
    }
  ]
}