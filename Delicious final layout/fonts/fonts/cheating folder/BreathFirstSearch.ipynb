{
  "nbformat": 4,
  "nbformat_minor": 0,
  "metadata": {
    "colab": {
      "name": "BreathFirstSearch.ipynb",
      "provenance": [],
      "collapsed_sections": []
    },
    "kernelspec": {
      "name": "python3",
      "display_name": "Python 3"
    },
    "language_info": {
      "name": "python"
    }
  },
  "cells": [
    {
      "cell_type": "code",
      "metadata": {
        "colab": {
          "base_uri": "https://localhost:8080/"
        },
        "id": "m2TEZ1bZNpj7",
        "outputId": "d38096d0-9f44-4501-ee8c-5c0528f0b3a9"
      },
      "source": [
        "def main():  \n",
        " \n",
        "        #   0 1 2 3\n",
        "        # 0 0 1 1 0\n",
        "        # 1 0 0 1 0\n",
        "        # 2 1 0 0 1\n",
        "        # 3 0 0 0 1\n",
        " \n",
        "        # The graph's adjacency matrix\n",
        "    matrix = [[0, 1, 1, 0],\n",
        "              [0, 0, 1, 0],\n",
        "              [1, 0, 0, 1],\n",
        "              [0, 0, 0, 1]]\n",
        " \n",
        "    # The visited array\n",
        "    visited = [0,0,0,0]\n",
        " \n",
        "    # Add the start node to the queue\n",
        "    # Node 0 in this case\n",
        "    queue = [0]\n",
        " \n",
        "    # Set the visited value of node 0 to visited\n",
        "    visited[0] = 1\n",
        " \n",
        "    # Pop the queue\n",
        "\n",
        "    node = queue.pop(0);\n",
        "    print(node)\n",
        " \n",
        "    while True:\n",
        " \n",
        "                # Iterate over the total amount of nodes\n",
        "        for x in range (0, len(visited)):\n",
        " \n",
        "                        # Check if route exists and that node isn't visited\n",
        "            if matrix[node][x] == 1 and visited[x] == 0:\n",
        " \n",
        "                                # Visit node\n",
        "                visited[x] = 1;\n",
        " \n",
        "                                # Push the element in the queue\n",
        "                queue.append(x)\n",
        " \n",
        "        # When queue is empty, break        \n",
        "        if len(queue) == 0:\n",
        " \n",
        "            break;\n",
        " \n",
        "        else:\n",
        " \n",
        "                        # Pop the element from the queue\n",
        "            node = queue.pop(0)\n",
        "            print(node)\n",
        "     \n",
        "if __name__ == \"__main__\":\n",
        "    main()"
      ],
      "execution_count": null,
      "outputs": [
        {
          "output_type": "stream",
          "name": "stdout",
          "text": [
            "0\n",
            "1\n",
            "2\n",
            "3\n"
          ]
        }
      ]
    }
  ]
}