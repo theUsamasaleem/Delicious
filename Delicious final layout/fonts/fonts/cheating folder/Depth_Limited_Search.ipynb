{
  "nbformat": 4,
  "nbformat_minor": 0,
  "metadata": {
    "colab": {
      "name": "Depth Limited Search.ipynb",
      "provenance": []
    },
    "kernelspec": {
      "name": "python3",
      "display_name": "Python 3"
    },
    "language_info": {
      "name": "python"
    }
  },
  "cells": [
    {
      "cell_type": "code",
      "metadata": {
        "colab": {
          "base_uri": "https://localhost:8080/"
        },
        "id": "d7HSQ6ePDFh_",
        "outputId": "973a7c5f-0cdf-43a5-b9de-d34e85a0758a"
      },
      "source": [
        "from collections import deque\n",
        "\n",
        "class Graph:\n",
        "    def __init__(self, directed=True):\n",
        "        self.edges = {}\n",
        "        self.directed = directed\n",
        "\n",
        "    def add_edge(self, node1, node2, __reversed=False):\n",
        "        try: neighbors = self.edges[node1]\n",
        "        except KeyError: neighbors = set()\n",
        "        neighbors.add(node2)\n",
        "        self.edges[node1] = neighbors\n",
        "        if not self.directed and not __reversed: self.add_edge(node2, node1, True)\n",
        "\n",
        "    def neighbors(self, node):\n",
        "        try: return self.edges[node]\n",
        "        except KeyError: return []\n",
        "\n",
        "    def depth_limited_search(self, start, goal, limit=-1):\n",
        "        print('Depth limit =', limit)\n",
        "        found, fringe, visited, came_from = False, deque([(0, start)]), set([start]), {start: None}\n",
        "        print('{:11s} | {}'.format('Expand Node', 'Fringe'))\n",
        "        print('--------------------')\n",
        "        print('{:11s} | {}'.format('-', start))\n",
        "        while not found and len(fringe):\n",
        "            depth, current = fringe.pop()\n",
        "            print('{:11s}'.format(current), end=' | ')\n",
        "            if current == goal: found = True; break\n",
        "            if limit == -1 or depth < limit:\n",
        "                for node in self.neighbors(current):\n",
        "                    if node not in visited:\n",
        "                        visited.add(node); fringe.append((depth + 1, node))\n",
        "                        came_from[node] = current\n",
        "            print(', '.join([n for _, n in fringe]))\n",
        "        if found: print(); return came_from\n",
        "        else: print('No path from {} to {}'.format(start, goal))\n",
        "\n",
        "    @staticmethod\n",
        "    def print_path(came_from, goal):\n",
        "        parent = came_from[goal]\n",
        "        if parent:\n",
        "            Graph.print_path(came_from, parent)\n",
        "        else: print(goal, end='');return\n",
        "        print(' =>', goal, end='')\n",
        "\n",
        "    def __str__(self):\n",
        "        return str(self.edges)\n",
        "\n",
        "print(\"Depth Limited Search\\n\")\n",
        "graph = Graph(directed=False)\n",
        "graph.add_edge('A', 'B')\n",
        "graph.add_edge('A', 'S')\n",
        "graph.add_edge('S', 'G')\n",
        "graph.add_edge('S', 'C')\n",
        "graph.add_edge('C', 'F')\n",
        "graph.add_edge('G', 'F')\n",
        "graph.add_edge('C', 'D')\n",
        "graph.add_edge('C', 'E')\n",
        "graph.add_edge('E', 'H')\n",
        "graph.add_edge('G', 'H')\n",
        "\n",
        "start, goal, l = 'A', 'H', 3\n",
        "traced_path = graph.depth_limited_search(start, goal, l)\n",
        "if (traced_path): print('Path:', end=' '); Graph.print_path(traced_path, goal);print()"
      ],
      "execution_count": 3,
      "outputs": [
        {
          "output_type": "stream",
          "name": "stdout",
          "text": [
            "Depth Limited Search\n",
            "\n",
            "Depth limit = 3\n",
            "Expand Node | Fringe\n",
            "--------------------\n",
            "-           | A\n",
            "A           | S, B\n",
            "B           | S\n",
            "S           | G, C\n",
            "C           | G, E, D, F\n",
            "F           | G, E, D\n",
            "D           | G, E\n",
            "E           | G\n",
            "G           | H\n",
            "H           | \n",
            "Path: A => S => G => H\n"
          ]
        }
      ]
    }
  ]
}