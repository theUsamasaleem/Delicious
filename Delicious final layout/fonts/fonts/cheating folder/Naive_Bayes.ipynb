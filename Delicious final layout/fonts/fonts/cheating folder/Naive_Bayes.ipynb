{
  "nbformat": 4,
  "nbformat_minor": 0,
  "metadata": {
    "colab": {
      "name": "Naive Bayes.ipynb",
      "provenance": []
    },
    "kernelspec": {
      "name": "python3",
      "display_name": "Python 3"
    },
    "language_info": {
      "name": "python"
    }
  },
  "cells": [
    {
      "cell_type": "code",
      "execution_count": 15,
      "metadata": {
        "colab": {
          "base_uri": "https://localhost:8080/"
        },
        "id": "JpQmHqJbVS2z",
        "outputId": "79a9580c-865c-4ebd-8a68-e22346dfafe6"
      },
      "outputs": [
        {
          "output_type": "stream",
          "name": "stdout",
          "text": [
            "Accuracy: 0.9\n"
          ]
        }
      ],
      "source": [
        "import numpy as np\n",
        "\n",
        "\n",
        "class NaiveBayes:\n",
        "    def __init__(self, X, y):\n",
        "        self.num_examples, self.num_features = X.shape\n",
        "        self.num_classes = len(np.unique(y))\n",
        "        self.eps = 1e-6\n",
        "\n",
        "    def fit(self, X):\n",
        "        self.classes_mean = {}\n",
        "        self.classes_variance = {}\n",
        "        self.classes_prior = {}\n",
        "\n",
        "        for c in range(self.num_classes):\n",
        "            X_c = X[y == c]\n",
        "\n",
        "            self.classes_mean[str(c)] = np.mean(X_c, axis=0)\n",
        "            self.classes_variance[str(c)] = np.var(X_c, axis=0)\n",
        "            self.classes_prior[str(c)] = X_c.shape[0] / X.shape[0]\n",
        "\n",
        "    def predict(self, X):\n",
        "        probs = np.zeros((self.num_examples, self.num_classes))\n",
        "\n",
        "        for c in range(self.num_classes):\n",
        "            prior = self.classes_prior[str(c)]\n",
        "            probs_c = self.density_function(\n",
        "                X, self.classes_mean[str(c)], self.classes_variance[str(c)]\n",
        "            )\n",
        "            probs[:, c] = probs_c + np.log(prior)\n",
        "\n",
        "        return np.argmax(probs, 1)\n",
        "\n",
        "    def density_function(self, x, mean, sigma):\n",
        "        # Calculate probability from Gaussian density function\n",
        "        const = -self.num_features / 2 * np.log(2 * np.pi) - 0.5 * np.sum(\n",
        "            np.log(sigma + self.eps)\n",
        "        )\n",
        "        probs = 0.5 * np.sum(np.power(x - mean, 2) / (sigma + self.eps), 1)\n",
        "        return const - probs\n",
        "\n",
        "\n",
        "if __name__ == \"__main__\":\n",
        "    X = np.loadtxt(\"data.txt\", delimiter=\",\")\n",
        "    y = np.loadtxt(\"targets.txt\") - 1\n",
        "\n",
        "    NB = NaiveBayes(X, y)\n",
        "    NB.fit(X)\n",
        "    y_pred = NB.predict(X)\n",
        "\n",
        "    print(f\"Accuracy: {sum(y_pred==y)/X.shape[0]}\")"
      ]
    },
    {
      "cell_type": "code",
      "source": [
        ""
      ],
      "metadata": {
        "id": "5BvECw9aYXOY"
      },
      "execution_count": null,
      "outputs": []
    }
  ]
}