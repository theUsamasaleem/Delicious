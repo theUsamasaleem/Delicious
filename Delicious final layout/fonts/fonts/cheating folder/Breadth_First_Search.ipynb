{
  "nbformat": 4,
  "nbformat_minor": 0,
  "metadata": {
    "colab": {
      "name": "Breadth First Search.ipynb",
      "provenance": []
    },
    "kernelspec": {
      "name": "python3",
      "display_name": "Python 3"
    },
    "language_info": {
      "name": "python"
    }
  },
  "cells": [
    {
      "cell_type": "code",
      "metadata": {
        "colab": {
          "base_uri": "https://localhost:8080/"
        },
        "id": "tJp-61rIRqEI",
        "outputId": "40a158bc-aa00-4f26-e066-86370829cd3b"
      },
      "source": [
        "from collections import deque\n",
        "\n",
        "class Graph:\n",
        "    def __init__(self, directed=True):\n",
        "        self.edges = {}\n",
        "        self.directed = directed\n",
        "\n",
        "    def add_edge(self, node1, node2, __reversed=False):\n",
        "        try: neighbors = self.edges[node1]\n",
        "        except KeyError: neighbors = set()\n",
        "        neighbors.add(node2)\n",
        "        self.edges[node1] = neighbors\n",
        "        if not self.directed and not __reversed: self.add_edge(node2, node1, True)\n",
        "\n",
        "    def neighbors(self, node):\n",
        "        try: return self.edges[node]\n",
        "        except KeyError: return []\n",
        "\n",
        "    def breadth_first_search(self, start, goal):\n",
        "        found, fringe, visited, came_from = False, deque([start]), set([start]), {start: None}\n",
        "        print('{:11s} | {}'.format('Frontier', 'Fringe'))\n",
        "        print('--------------------')\n",
        "        print('{:11s} | {}'.format('-', start))\n",
        "        while not found and len(fringe):\n",
        "            current = fringe.pop()\n",
        "            print('{:11s}'.format(current), end=' | ')\n",
        "            if current == goal: found = True; break\n",
        "            for node in self.neighbors(current):\n",
        "                if node not in visited: visited.add(node); fringe.appendleft(node); came_from[node] = current\n",
        "            print(', '.join(fringe))\n",
        "        if found: print(); return came_from\n",
        "        else: print('No path from {} to {}'.format(start, goal))\n",
        "\n",
        "    @staticmethod\n",
        "    def print_path(came_from, goal):\n",
        "        parent = came_from[goal]\n",
        "        if parent:\n",
        "            Graph.print_path(came_from, parent)\n",
        "        else: print(goal, end='');return\n",
        "        print(' =>', goal, end='')\n",
        "\n",
        "\n",
        "    def __str__(self):\n",
        "        return str(self.edges)\n",
        "\n",
        "print(\"Breadth First Search\\n\")\n",
        "graph = Graph(directed=False)\n",
        "graph.add_edge('A', 'B')\n",
        "graph.add_edge('A', 'S')\n",
        "graph.add_edge('S', 'G')\n",
        "graph.add_edge('S', 'C')\n",
        "graph.add_edge('C', 'F')\n",
        "graph.add_edge('G', 'F')\n",
        "graph.add_edge('C', 'D')\n",
        "graph.add_edge('C', 'E')\n",
        "graph.add_edge('E', 'H')\n",
        "graph.add_edge('G', 'H')\n",
        "\n",
        "start, goal = 'A', 'H'\n",
        "traced_path = graph.breadth_first_search(start, goal)\n",
        "if (traced_path): print('\\nPath:', end=' '); Graph.print_path(traced_path, goal);print()\n"
      ],
      "execution_count": null,
      "outputs": [
        {
          "output_type": "stream",
          "name": "stdout",
          "text": [
            "Breadth First Search\n",
            "\n",
            "Frontier    | Fringe\n",
            "--------------------\n",
            "-           | A\n",
            "A           | B, S\n",
            "S           | C, G, B\n",
            "B           | C, G\n",
            "G           | F, H, C\n",
            "C           | E, D, F, H\n",
            "H           | \n",
            "\n",
            "Path: A => S => G => H\n"
          ]
        }
      ]
    }
  ]
}